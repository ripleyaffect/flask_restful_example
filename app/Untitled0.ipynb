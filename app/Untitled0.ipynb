{
 "metadata": {
  "name": "",
  "signature": "sha256:d0ee5c69447aa586778a6a22ed943ac3e144b12a045d458303a43bcd4a486423"
 },
 "nbformat": 3,
 "nbformat_minor": 0,
 "worksheets": [
  {
   "cells": [
    {
     "cell_type": "code",
     "collapsed": false,
     "input": [
      "import requests, json"
     ],
     "language": "python",
     "metadata": {},
     "outputs": [],
     "prompt_number": 1
    },
    {
     "cell_type": "code",
     "collapsed": false,
     "input": [
      "requests.post(\n",
      "    'http://localhost:5000/api/projects',\n",
      "    data=json.dumps({\n",
      "        'title': 'hello world',\n",
      "        'description': 'a test project!',\n",
      "        'goal': 4,\n",
      "        'unit': 'hours'}),\n",
      "    headers={'Content-type': 'application/json'}).text"
     ],
     "language": "python",
     "metadata": {},
     "outputs": [
      {
       "metadata": {},
       "output_type": "pyout",
       "prompt_number": 10,
       "text": [
        "u'[\\n    {\\n        \"created_asof\": \"2015-08-13T02:56:28.325758\", \\n        \"description\": \"a test project!\", \\n        \"goal\": 4, \\n        \"id\": 2, \\n        \"progress\": [], \\n        \"title\": \"hello world\", \\n        \"unit\": \"hours\", \\n        \"updated_asof\": null\\n    }\\n]\\n'"
       ]
      }
     ],
     "prompt_number": 10
    },
    {
     "cell_type": "code",
     "collapsed": false,
     "input": [],
     "language": "python",
     "metadata": {},
     "outputs": []
    }
   ],
   "metadata": {}
  }
 ]
}