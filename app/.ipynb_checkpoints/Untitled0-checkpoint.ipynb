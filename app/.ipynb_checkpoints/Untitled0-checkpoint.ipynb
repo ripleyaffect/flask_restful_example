{
 "metadata": {
  "name": "",
  "signature": "sha256:f4fe0a375acdab6224f275eef7a3b78fb84b998439f816d6731e261fc9da9144"
 },
 "nbformat": 3,
 "nbformat_minor": 0,
 "worksheets": [
  {
   "cells": [
    {
     "cell_type": "code",
     "collapsed": false,
     "input": [
      "import requests, json"
     ],
     "language": "python",
     "metadata": {},
     "outputs": [],
     "prompt_number": 1
    },
    {
     "cell_type": "code",
     "collapsed": false,
     "input": [
      "requests.post(\n",
      "    'http://localhost:5000/api/projects',\n",
      "    data=json.dumps({\n",
      "        'title': 'hello world',\n",
      "        'description': 'a test project!',\n",
      "        'goal': 4,\n",
      "        'unit': 'hours'}),\n",
      "    headers={'Content-type': 'application/json'}).text"
     ],
     "language": "python",
     "metadata": {},
     "outputs": [
      {
       "metadata": {},
       "output_type": "pyout",
       "prompt_number": 3,
       "text": [
        "u'{\\n    \"error\": \"Missing fields: [\\'goal\\', \\'unit\\', \\'description\\']\"\\n}\\n'"
       ]
      }
     ],
     "prompt_number": 3
    },
    {
     "cell_type": "code",
     "collapsed": false,
     "input": [],
     "language": "python",
     "metadata": {},
     "outputs": []
    }
   ],
   "metadata": {}
  }
 ]
}